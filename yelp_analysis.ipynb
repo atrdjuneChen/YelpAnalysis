{
 "cells": [
  {
   "cell_type": "markdown",
   "metadata": {},
   "source": [
    "# Data Collection\n",
    "\n",
    "For the first step of the Yelp review analysis, we scraped all reviews of all restaurants in Pittsburgh, PA, United States with the following scraper pipeline. In this pipeline, we scrape name of restaurant, level of price (from 1 to 5), sub-category (basically the country of the restaurant), user name, date of review, star given (from 0 to 5) and the text of review."
   ]
  },
  {
   "cell_type": "code",
   "execution_count": null,
   "metadata": {
    "collapsed": true
   },
   "outputs": [],
   "source": [
    "# setup library imports\n",
    "import io, time, json, random\n",
    "import requests\n",
    "from bs4 import BeautifulSoup\n",
    "import pandas as pd\n",
    "\n",
    "# import yelp client library\n",
    "from yelp.client import Client\n",
    "from yelp.oauth1_authenticator import Oauth1Authenticator\n",
    "\n",
    "def authenticate(config_filepath):\n",
    "    \"\"\"\n",
    "    Create an authenticated yelp-python client.\n",
    "\n",
    "    Args:\n",
    "        config_filepath (string): relative path (from this file) to a file with your Yelp credentials\n",
    "\n",
    "    Returns:\n",
    "        client (yelp.client.Client): authenticated instance of a yelp.Client\n",
    "    \"\"\"\n",
    "\n",
    "    conf = open(config_filepath, 'r')\n",
    "    cred = json.load(conf)\n",
    "    auth = Oauth1Authenticator(**cred)\n",
    "    client = Client(auth)\n",
    "    return client\n",
    "\n",
    "\n",
    "def parse_page(html, name = None, price = None, categories = None):\n",
    "    \"\"\"\n",
    "    Parse the reviews on a single page of a restaurant.\n",
    "\n",
    "    Args:\n",
    "        html (string): String of HTML corresponding to a Yelp restaurant\n",
    "        name (string): String of name of restaurant\n",
    "        price (int): price level of the restaurant\n",
    "        categories (string): String of categories of restaurant, seperated by comma\n",
    "\n",
    "    Returns:\n",
    "        tuple(list, string): a tuple of two elements\n",
    "            first element: String of name of restaurant\n",
    "            second element: price level of the restaurant\n",
    "            third element: String of categories of restaurant, seperated by comma\n",
    "            fourth element: list of dictionaries corresponding to the extracted review information\n",
    "            fifth element: URL for the next page of reviews (or None if it is the last page)\n",
    "    \"\"\"\n",
    "\n",
    "    soup = BeautifulSoup(html, 'html.parser')\n",
    "    results = []\n",
    "    attr_review = {'itemprop':'review'}\n",
    "    attr_date = {'itemprop':'datePublished'}\n",
    "    attr_rate = {'itemprop':'ratingValue'}\n",
    "    attr_text = {'itemprop':'description'}\n",
    "    attr_user = {'itemprop': 'author'}\n",
    "\n",
    "    if name == None:\n",
    "        name = soup.find('h1').text.strip()\n",
    "        price_category = soup.find('div', class_='price-category')\n",
    "        price_tag = price_category.find('span', class_='business-attribute price-range')\n",
    "        if price_tag == None:\n",
    "            price = -1\n",
    "        else:\n",
    "            price = len(price_tag.text)\n",
    "\n",
    "    for review in soup.findAll('div', attrs = attr_review):\n",
    "        user = review.find('meta', attrs = attr_user)['content']\n",
    "        date = review.find('meta', attrs = attr_date)['content']\n",
    "        rate = float(review.find('meta', attrs = attr_rate)['content'])\n",
    "        text = review.find('p', attrs = attr_text).text\n",
    "        results.append([name, price, categories, user, date, rate, text])\n",
    "\n",
    "    nextpage = soup.find('a', class_='u-decoration-none next pagination-links_anchor')\n",
    "    if nextpage == None:\n",
    "        return (name, price, categories, results, None)\n",
    "\n",
    "    return (name, price, categories, results, nextpage['href'])\n",
    "\n",
    "def extract_reviews(url, categories):\n",
    "    \"\"\"\n",
    "    Retrieve ALL of the reviews for a single restaurant on Yelp.\n",
    "\n",
    "    Parameters:\n",
    "        url (string): Yelp URL corresponding to the restaurant of interest.\n",
    "        categories (string): The categories of the page.\n",
    "\n",
    "    Returns:\n",
    "        reviews (list): list of dictionaries containing extracted review information\n",
    "    \"\"\"\n",
    "\n",
    "    html = requests.get(url).content\n",
    "    name, price, categories, allreviews, nextpage = parse_page(html, categories = categories)\n",
    "    while (nextpage != None):\n",
    "        # wait a random time to avoid being detected scraper\n",
    "        time.sleep(0.5 + random.random())\n",
    "        html = requests.get(nextpage).content\n",
    "        _, _, _, reviews, nextpage = parse_page(html, name, price, categories)\n",
    "        allreviews.extend(reviews)\n",
    "\n",
    "    print 'Extracted %d reviews from this business' % len(allreviews)\n",
    "\n",
    "    return allreviews\n",
    "\n",
    "def all_restaurants(client, query, category = None):\n",
    "    \"\"\"\n",
    "    Retrieve ALL the restaurants on Yelp for a given query.\n",
    "\n",
    "    Args:\n",
    "        query (string): Search term\n",
    "\n",
    "    Returns:\n",
    "        results (list): list of yelp.obj.business.Business objects\n",
    "    \"\"\"\n",
    "\n",
    "    results = []\n",
    "    if category == None:\n",
    "        param = {'term': 'restaurants'}\n",
    "    else:\n",
    "        param = {'term': 'restaurants', 'category_filter': category}\n",
    "\n",
    "    response = client.search(query, **param)\n",
    "\n",
    "    total = response.total\n",
    "    if total > 1000:\n",
    "        print 'Trying to get over 1000 records (%d), set to 1000' % total\n",
    "        total = 1000\n",
    "\n",
    "    i = 0\n",
    "    for business in response.businesses:\n",
    "        i += 1\n",
    "        print i, '/', total, ':\\n', business.url\n",
    "        try:\n",
    "            results.extend(extract_reviews(business.url, category))\n",
    "        except Exception:\n",
    "            print 'Oh maybe we are recognized as a scraper'\n",
    "            raw_input('Visit Yelp and pass the validation, then press any key to continue')\n",
    "            try:\n",
    "                results.extend(extract_reviews(business.url, category))\n",
    "            except Exception:\n",
    "                print 'Failed, try again'\n",
    "                raw_input('press any key to continue')\n",
    "                continue\n",
    "            continue\n",
    "\n",
    "    while i < total:\n",
    "        param['offset'] = i\n",
    "        response = client.search(query, **param)\n",
    "        for business in response.businesses:\n",
    "            i += 1\n",
    "            print i, '/', total, ':\\n', business.url\n",
    "            try:\n",
    "                results.extend(extract_reviews(business.url, category))\n",
    "            except Exception:\n",
    "                print 'Oh maybe we are recognized as a scraper'\n",
    "                raw_input('Visit Yelp and pass the validation, then press any key to continue')\n",
    "                try:\n",
    "                    results.extend(extract_reviews(business.url, category))\n",
    "                except Exception:\n",
    "                    print 'Failed, try again'\n",
    "                    raw_input('press any key to continue')\n",
    "                    continue\n",
    "                continue\n",
    "    return results\n",
    "\n",
    "if __name__ == '__main__':\n",
    "    reviews = []\n",
    "    random.seed(15688)\n",
    "    client = authenticate('yelp.json')\n",
    "    with open('category.list', 'r') as category_file:\n",
    "        for line in category_file:\n",
    "            print line\n",
    "            if not line.startswith('#'):\n",
    "                reviews.extend(all_restaurants(client, 'Pittsburgh, PA', line.strip()))\n",
    "    pd.DataFrame(reviews).to_pickle('dataset.pickle')\n"
   ]
  },
  {
   "cell_type": "markdown",
   "metadata": {},
   "source": [
    "Note: This piece of code with take several hours to run (12 hours on my Macbook Air!), and it could be interrupted by the Yelp scraper detection serveral times where we will need to manually pass the validation in this case. So we don't recommend you to run this piece of code in the notebook, the python script file can be found [here](https://github.com/lidajian/YelpAnalysis/blob/master/scraper.py).\n",
    "\n",
    "The scraped data in can be found in our [github](https://github.com/lidajian/YelpAnalysis/blob/master/data/pittsburgh_restaurants.pickle), the data file is in Python pickle format and can be easily imported as `pandas.DataFrame` object."
   ]
  },
  {
   "cell_type": "code",
   "execution_count": 2,
   "metadata": {
    "collapsed": false
   },
   "outputs": [],
   "source": [
    "import pandas as pd\n",
    "df = pd.read_pickle(\"./data/pittsburgh_restaurants.pickle\")\n",
    "df.columns = ['restaurant', 'price_range', 'category', 'user', 'date', 'rating', 'review']"
   ]
  },
  {
   "cell_type": "markdown",
   "metadata": {},
   "source": [
    "First let's have a glimpse to the data we have"
   ]
  },
  {
   "cell_type": "code",
   "execution_count": 63,
   "metadata": {
    "collapsed": false
   },
   "outputs": [
    {
     "name": "stdout",
     "output_type": "stream",
     "text": [
      "restaurant      object\n",
      "price_range      int64\n",
      "category        object\n",
      "user            object\n",
      "date            object\n",
      "rating         float64\n",
      "review          object\n",
      "dtype: object\n",
      "    restaurant  price_range category        user        date  rating  \\\n",
      "0  Grandma B’s            1    halal     Mark R.  2016-11-03     5.0   \n",
      "1  Grandma B’s            1    halal      Dan T.  2016-09-18     4.0   \n",
      "2  Grandma B’s            1    halal  Maurice J.  2016-06-13     5.0   \n",
      "3  Grandma B’s            1    halal    Karol R.  2016-07-13     5.0   \n",
      "4  Grandma B’s            1    halal        T R.  2016-08-28     5.0   \n",
      "\n",
      "                                              review  \n",
      "0  Halal hot wings very tasty, well seasoned, fis...  \n",
      "1  Mom and pop stop - cheap, good and affordable,...  \n",
      "2  I've frequented this place on several occasion...  \n",
      "3  Breakfast is cooked to order. The food is deli...  \n",
      "4  This place is RIDICULOUSLY GOOD. I got eggs, p...  \n"
     ]
    }
   ],
   "source": [
    "print df.dtypes\n",
    "print df.head()"
   ]
  },
  {
   "cell_type": "markdown",
   "metadata": {},
   "source": [
    "Before we can do high level analysis to the scraped data, let's first take a simple analysis to the data we scraped."
   ]
  },
  {
   "cell_type": "markdown",
   "metadata": {},
   "source": [
    "# Simple Analysis to Data"
   ]
  },
  {
   "cell_type": "code",
   "execution_count": 8,
   "metadata": {
    "collapsed": true
   },
   "outputs": [],
   "source": [
    "import matplotlib.pyplot as plt\n",
    "%matplotlib inline"
   ]
  },
  {
   "cell_type": "markdown",
   "metadata": {},
   "source": [
    "A statistical summary of price range and rating is shown:"
   ]
  },
  {
   "cell_type": "code",
   "execution_count": 43,
   "metadata": {
    "collapsed": false
   },
   "outputs": [
    {
     "name": "stdout",
     "output_type": "stream",
     "text": [
      "       price_range        rating\n",
      "count  76989.00000  76989.000000\n",
      "mean       1.90144      3.721038\n",
      "std        0.56156      1.273594\n",
      "min       -1.00000      1.000000\n",
      "25%        2.00000      3.000000\n",
      "50%        2.00000      4.000000\n",
      "75%        2.00000      5.000000\n",
      "max        4.00000      5.000000\n"
     ]
    }
   ],
   "source": [
    "print df.describe()"
   ]
  },
  {
   "cell_type": "markdown",
   "metadata": {},
   "source": [
    "Note: The reason the minimum price range is -1 is that when we scraped the price we found some of the restaurant don't have price range label. We ignore all reviews that have no price data when analysing relations of price."
   ]
  },
  {
   "cell_type": "code",
   "execution_count": 44,
   "metadata": {
    "collapsed": false
   },
   "outputs": [],
   "source": [
    "df_price = df[df['price_range'] >= 0]"
   ]
  },
  {
   "cell_type": "markdown",
   "metadata": {},
   "source": [
    "## Restaurants at different price range\n",
    "An histgram of restaurants at different price range is shown below:"
   ]
  },
  {
   "cell_type": "code",
   "execution_count": 45,
   "metadata": {
    "collapsed": false,
    "scrolled": true
   },
   "outputs": [
    {
     "data": {
      "text/plain": [
       "<matplotlib.axes._subplots.AxesSubplot at 0x109e51e10>"
      ]
     },
     "execution_count": 45,
     "metadata": {},
     "output_type": "execute_result"
    },
    {
     "data": {
      "image/png": "[encoded data removed]",
      "text/plain": [
       "<matplotlib.figure.Figure at 0x109e70e10>"
      ]
     },
     "metadata": {},
     "output_type": "display_data"
    }
   ],
   "source": [
    "df_price.groupby(by = 'price_range')['restaurant'].apply(lambda x: len(pd.Series.unique(x))).plot(kind = 'bar')"
   ]
  },
  {
   "cell_type": "markdown",
   "metadata": {},
   "source": [
    "As shown in the histgram, the distribution tends to be bell shaped distribution, with most restaurants at price range 2 (\\$11 - 30). This indicates that restaurants at price range 2 are the common choice when people choose to open a restaurant."
   ]
  },
  {
   "cell_type": "markdown",
   "metadata": {},
   "source": [
    "## Reviews with different ratings"
   ]
  },
  {
   "cell_type": "code",
   "execution_count": 47,
   "metadata": {
    "collapsed": false
   },
   "outputs": [
    {
     "data": {
      "text/plain": [
       "<matplotlib.axes._subplots.AxesSubplot at 0x109791cd0>"
      ]
     },
     "execution_count": 47,
     "metadata": {},
     "output_type": "execute_result"
    },
    {
     "data": {
      "image/png": "[encoded data removed]",
      "text/plain": [
       "<matplotlib.figure.Figure at 0x10964ca50>"
      ]
     },
     "metadata": {},
     "output_type": "display_data"
    }
   ],
   "source": [
    "df['rating'].hist()"
   ]
  },
  {
   "cell_type": "markdown",
   "metadata": {},
   "source": [
    "Normally we expect the rating to be a bell shaped distribution. But in the histgram, the evaluation of customers seems to be quite good, so more reviews are at higher ratings."
   ]
  },
  {
   "cell_type": "markdown",
   "metadata": {},
   "source": [
    "## Correlation between price range and rating\n",
    "\n",
    "Does higher price indicate higher food and service quality? Let's make a histgram to figure out:"
   ]
  },
  {
   "cell_type": "code",
   "execution_count": 50,
   "metadata": {
    "collapsed": false
   },
   "outputs": [
    {
     "data": {
      "text/plain": [
       "<matplotlib.axes._subplots.AxesSubplot at 0x1095d0890>"
      ]
     },
     "execution_count": 50,
     "metadata": {},
     "output_type": "execute_result"
    },
    {
     "data": {
      "image/png": "[encoded data removed]",
      "text/plain": [
       "<matplotlib.figure.Figure at 0x10963b210>"
      ]
     },
     "metadata": {},
     "output_type": "display_data"
    }
   ],
   "source": [
    "df_price.groupby(by = 'price_range')['rating'].mean().plot(kind = 'bar')"
   ]
  },
  {
   "cell_type": "markdown",
   "metadata": {},
   "source": [
    "There are a certain correlation between price and review stars. For higher price review stars tends to be higher. However the difference between price range 1 and price range 2 is quite small."
   ]
  },
  {
   "cell_type": "markdown",
   "metadata": {},
   "source": [
    "## Correlation between price and average number of reviews"
   ]
  },
  {
   "cell_type": "code",
   "execution_count": 56,
   "metadata": {
    "collapsed": false
   },
   "outputs": [
    {
     "data": {
      "text/plain": [
       "<matplotlib.axes._subplots.AxesSubplot at 0x10c7e45d0>"
      ]
     },
     "execution_count": 56,
     "metadata": {},
     "output_type": "execute_result"
    },
    {
     "data": {
      "image/png": "[encoded data removed]",
      "text/plain": [
       "<matplotlib.figure.Figure at 0x10e243210>"
      ]
     },
     "metadata": {},
     "output_type": "display_data"
    }
   ],
   "source": [
    "df_price.groupby(by = 'price_range').apply(lambda x: float(x.shape[0])/len(x['restaurant'].unique())).plot(kind = 'bar')"
   ]
  },
  {
   "cell_type": "markdown",
   "metadata": {},
   "source": [
    "Price range 3 has the largest average number of reviews."
   ]
  },
  {
   "cell_type": "markdown",
   "metadata": {},
   "source": [
    "# Categorized Analysis"
   ]
  },
  {
   "cell_type": "markdown",
   "metadata": {},
   "source": [
    "## Average ratings of different sub-categories"
   ]
  },
  {
   "cell_type": "code",
   "execution_count": 64,
   "metadata": {
    "collapsed": false,
    "scrolled": false
   },
   "outputs": [
    {
     "data": {
      "text/plain": [
       "<matplotlib.axes._subplots.AxesSubplot at 0x10c1f9110>"
      ]
     },
     "execution_count": 64,
     "metadata": {},
     "output_type": "execute_result"
    },
    {
     "data": {
      "image/png": "[encoded data removed]",
      "text/plain": [
       "<matplotlib.figure.Figure at 0x1092e3a90>"
      ]
     },
     "metadata": {},
     "output_type": "display_data"
    }
   ],
   "source": [
    "df.groupby(by = 'category')['rating'].mean().sort_values(ascending = False, inplace = False).plot(kind = 'bar')"
   ]
  },
  {
   "cell_type": "markdown",
   "metadata": {},
   "source": [
    "We actually have a [list](https://github.com/lidajian/YelpAnalysis/blob/master/category.list) that categorize sub-categories into different regions. \n",
    " \n",
    "* middle east asia\n",
    "* east asia\n",
    "* south asia\n",
    "* europe\n",
    "* north american\n",
    "* south american\n",
    "* africa\n",
    "\n",
    "To use the category list, we first import it from file."
   ]
  },
  {
   "cell_type": "code",
   "execution_count": 3,
   "metadata": {
    "collapsed": false,
    "scrolled": false
   },
   "outputs": [],
   "source": [
    "def load_category (file_name):\n",
    "    categories_name = []\n",
    "    categories = {}\n",
    "    temp = open(file_name,'r').read().split('\\n')\n",
    "    \n",
    "    for term in temp:\n",
    "        if term.startswith(\"#\"):\n",
    "            categories[term[2:]]=set()\n",
    "            categories_name.append(term[2:])\n",
    "            \n",
    "        else:\n",
    "            categories[categories_name[len(categories_name)-1]].add(term)\n",
    "   \n",
    "    return categories_name, categories"
   ]
  },
  {
   "cell_type": "markdown",
   "metadata": {},
   "source": [
    "This is a glimpse of all categories:"
   ]
  },
  {
   "cell_type": "code",
   "execution_count": 4,
   "metadata": {
    "collapsed": false
   },
   "outputs": [
    {
     "name": "stdout",
     "output_type": "stream",
     "text": [
      "Category:  middle east asia \t#sub-categories: 9\n",
      "set(['indpak', 'arabian', 'mideastern', 'halal', 'himalayan', 'afghani', 'pakistani', 'syrian', 'persian'])\n",
      "Category:  east asia \t#sub-categories: 9\n",
      "set(['hkcafe', 'chinese', 'panasian', 'taiwanese', 'japanese', 'asianfusion', 'mongolian', 'korean', 'thai'])\n",
      "Category:  south asia \t#sub-categories: 8\n",
      "set(['singaporean', 'filipino', 'vietnamese', 'malaysian', 'bangladeshi', 'burmese', 'laotian', 'cambodian'])\n",
      "Category:  europe \t#sub-categories: 28\n",
      "set(['portuguese', 'irish', 'czech', 'basque', 'mediterranean', 'moroccan', 'spanish', 'scottish', 'srilankan', 'polish', 'modern_european', 'turkish', 'german', 'belgian', 'austrian', 'hungarian', 'ukrainian', 'french', 'iberian', 'catalan', 'slovakian', 'armenian', 'russian', 'uzbek', 'british', 'scandinavian', 'greek', 'italian'])\n",
      "Category:  north american \t#sub-categories: 8\n",
      "set(['cajun', 'tradamerican', 'mexican', 'nicaraguan', 'hawaiian', 'newmexican', 'caribbean', 'newamerican'])\n",
      "Category:  south american \t#sub-categories: 5\n",
      "set(['peruvian', 'cuban', 'latin', 'argentine', 'brazilian'])\n",
      "Category:  africa \t#sub-categories: 2\n",
      "set(['ethiopian', 'african'])\n"
     ]
    }
   ],
   "source": [
    "categories_name, categories = load_category(\"category.list\")\n",
    "for name in categories_name:\n",
    "    print 'Category: ', name, '\\t#sub-categories:',len(categories[name])\n",
    "    print categories[name]"
   ]
  },
  {
   "cell_type": "code",
   "execution_count": 5,
   "metadata": {
    "collapsed": false
   },
   "outputs": [],
   "source": [
    "category_dict = {}\n",
    "for name in categories_name:\n",
    "    for category in categories[name]:\n",
    "        category_dict[category] = name\n",
    "df_categorized = df.copy()\n",
    "df_categorized['category'] = df_categorized['category'].apply(lambda x: category_dict[x])"
   ]
  },
  {
   "cell_type": "markdown",
   "metadata": {},
   "source": [
    "Then, let us explore the overal statistic of each category:"
   ]
  },
  {
   "cell_type": "markdown",
   "metadata": {},
   "source": [
    "We load the data into a dictionay `processed_category`"
   ]
  },
  {
   "cell_type": "code",
   "execution_count": 25,
   "metadata": {
    "collapsed": false
   },
   "outputs": [],
   "source": [
    "processed_category = {}\n",
    "for name in categories_name:\n",
    "    processed_category[name] = df_categorized[df_categorized['category'] == name].copy()\n",
    "    processed_category[name].reindex()"
   ]
  },
  {
   "cell_type": "code",
   "execution_count": 75,
   "metadata": {
    "collapsed": false
   },
   "outputs": [
    {
     "name": "stdout",
     "output_type": "stream",
     "text": [
      "            category|\t    number|\trating(mean)|\trating(variance)|\tprice(mean)|\tprice(variance)\n",
      "------------------------------------------------------------------------------------------------------------------\n",
      "              europe|\t     18370|\t    3.8431|\t    1.5909|\t    1.9820|\t    0.3664\n",
      "           east asia|\t     15963|\t    3.6981|\t    1.6363|\t    1.8530|\t    0.2736\n",
      "    middle east asia|\t      2802|\t    3.8269|\t    1.6091|\t    1.8837|\t    0.1307\n",
      "              africa|\t       111|\t    4.0541|\t    0.9607|\t    1.8108|\t    0.2093\n",
      "      north american|\t     35632|\t    3.6169|\t    1.6458|\t    1.8898|\t    0.3233\n",
      "          south asia|\t      1528|\t    3.8364|\t    1.4192|\t    1.5988|\t    0.2443\n",
      "      south american|\t      2583|\t    4.2350|\t    1.0458|\t    1.9911|\t    0.2226\n"
     ]
    }
   ],
   "source": [
    "print '%20s|\\t%10s|\\t%10s|\\t%10s|\\t%10s|\\t%10s' % ('category','number','rating(mean)','rating(variance)','price(mean)','price(variance)')\n",
    "print '------------------------------------------------------------------------------------------------------------------'\n",
    "for name in processed_category.keys():\n",
    "    print '%20s|\\t%10d|\\t%10.4f|\\t%10.4f|\\t%10.4f|\\t%10.4f' % (name, len(processed_category[name]), \n",
    "                                    processed_category[name]['rating'].mean(),  processed_category[name]['rating'].var(),\n",
    "                                    processed_category[name]['price_range'].mean(),  processed_category[name]['price_range'].var()        )\n"
   ]
  },
  {
   "cell_type": "code",
   "execution_count": 12,
   "metadata": {
    "collapsed": false,
    "scrolled": false
   },
   "outputs": [
    {
     "data": {
      "text/plain": [
       "[-1, 7, 0, 6]"
      ]
     },
     "execution_count": 12,
     "metadata": {},
     "output_type": "execute_result"
    },
    {
     "data": {
      "image/png": "[encoded data removed]",
      "text/plain": [
       "<matplotlib.figure.Figure at 0x114424d90>"
      ]
     },
     "metadata": {},
     "output_type": "display_data"
    }
   ],
   "source": [
    "df_categorized.groupby(by = 'category')['rating', 'price_range'].mean().plot(kind = 'bar').axis([-1, 7, 0, 6])"
   ]
  },
  {
   "cell_type": "markdown",
   "metadata": {},
   "source": [
    "## Word Cloud"
   ]
  },
  {
   "cell_type": "code",
   "execution_count": 18,
   "metadata": {
    "collapsed": true
   },
   "outputs": [],
   "source": [
    "import nltk\n",
    "from collections import Counter\n",
    "\n",
    "import string\n",
    "import numpy as np\n",
    "import sklearn\n",
    "import scipy.sparse as sp\n",
    "import math"
   ]
  },
  {
   "cell_type": "markdown",
   "metadata": {},
   "source": [
    "We define a function to tokenize the text reviews"
   ]
  },
  {
   "cell_type": "code",
   "execution_count": 19,
   "metadata": {
    "collapsed": false
   },
   "outputs": [],
   "source": [
    "from nltk.stem import WordNetLemmatizer\n",
    "def process(text, lemmatizer=nltk.stem.wordnet.WordNetLemmatizer()):\n",
    "    \"\"\" Normalizes case and handles punctuation\n",
    "    Inputs:\n",
    "        text: str: raw text\n",
    "        lemmatizer: an instance of a class implementing the lemmatize() method\n",
    "                    (the default argument is of type nltk.stem.wordnet.WordNetLemmatizer)\n",
    "    Outputs:\n",
    "        list(str): tokenized text\n",
    "    \"\"\"\n",
    "    text = text.lower()\n",
    "    text = text.replace(\"'s\",\"\")\n",
    "    text = text.replace(\"'\",\"\")\n",
    "    replace_punctuation = string.maketrans(string.punctuation, ' '*len(string.punctuation))\n",
    "    text = text.translate(replace_punctuation)\n",
    "    \n",
    "    tokens = nltk.word_tokenize(text)\n",
    "    ans = []\n",
    "    for token in tokens:\n",
    "        try:\n",
    "            lemma = lemmatizer.lemmatize(token)\n",
    "            ans.append(lemma)\n",
    "        except:\n",
    "            pass\n",
    "    return ans"
   ]
  },
  {
   "cell_type": "code",
   "execution_count": null,
   "metadata": {
    "collapsed": true
   },
   "outputs": [],
   "source": [
    "for name in categories_name:\n",
    "    processed_category[name]['review'] = processed_category[name]['review'].apply(lambda x: process(x.encode('utf-8')))"
   ]
  },
  {
   "cell_type": "markdown",
   "metadata": {},
   "source": [
    "### Cross-category analysis"
   ]
  },
  {
   "cell_type": "markdown",
   "metadata": {},
   "source": [
    "Firstly, we need to remove the stopwords and count the unigram(single words)"
   ]
  },
  {
   "cell_type": "code",
   "execution_count": 23,
   "metadata": {
    "collapsed": false
   },
   "outputs": [],
   "source": [
    "from collections import Counter\n",
    "from string import punctuation\n",
    "\n",
    "def word_counter(all_review, n=50):\n",
    "    stopwords = set(nltk.corpus.stopwords.words('english'))\n",
    "    with_stp = Counter()\n",
    "    without_stp  = Counter()\n",
    "    for review in all_review:\n",
    "        with_stp.update(w for w in review if w in stopwords)\n",
    "        without_stp.update(w for w in review if w not in stopwords)\n",
    "    return [x for x in with_stp.most_common(n)],[y for y in without_stp.most_common(n)]\n",
    "\n"
   ]
  },
  {
   "cell_type": "markdown",
   "metadata": {},
   "source": [
    "We then use the wordCloud to visualize the most common words of each category. WordCloud is a convenient opensourse tool, which can download from http://amueller.github.io/word_cloud/"
   ]
  },
  {
   "cell_type": "code",
   "execution_count": null,
   "metadata": {
    "collapsed": false,
    "scrolled": false
   },
   "outputs": [],
   "source": [
    "%matplotlib inline \n",
    "import matplotlib.pyplot as plt\n",
    "from wordcloud import WordCloud\n",
    "\n",
    "def plot_wordCloud(processed_category):\n",
    "    for name in processed_category.iterkeys():\n",
    "        with_stp, without_stp = word_counter(processed_category[name]['review'], 200)\n",
    "        str = \"\"\n",
    "        w =  [pair[0] for pair in without_stp]\n",
    "        str = \" \".join(w)\n",
    "        wordcloud = WordCloud(background_color='white',width=1800,height=1900).generate(str)\n",
    "        plt.figure(i+1, figsize=(10,10), dpi=100)\n",
    "        plt.axis('off')\n",
    "        plt.title (name, size=30)\n",
    "        plt.imshow(wordcloud, cmap=plt.cm.gray)\n",
    "\n",
    "plot_wordCloud(processed_category)"
   ]
  },
  {
   "cell_type": "markdown",
   "metadata": {
    "collapsed": true
   },
   "source": [
    "### LDA model"
   ]
  },
  {
   "cell_type": "markdown",
   "metadata": {},
   "source": [
    "gensim is a powerful tool to generate topic models, and we generate 20 topis for each type of restaurants.\n",
    "\n",
    "in order to use gensim, we need to fisrt install gensim using: \n",
    "\n",
    "pip install gensim"
   ]
  },
  {
   "cell_type": "code",
   "execution_count": 26,
   "metadata": {
    "collapsed": false
   },
   "outputs": [
    {
     "name": "stdout",
     "output_type": "stream",
     "text": [
      "analying LDA model of europe\n",
      "analying LDA model of east asia\n",
      "analying LDA model of middle east asia\n",
      "analying LDA model of africa\n",
      "analying LDA model of north american\n",
      "analying LDA model of south asia\n",
      "analying LDA model of south american\n"
     ]
    }
   ],
   "source": [
    "import gensim\n",
    "from gensim import corpora, models,matutils\n",
    "\n",
    "lda_corpus_each_region = {}\n",
    "lda_model_each_region = {}\n",
    "for name in processed_category.keys():\n",
    "    print 'analying LDA model of ' + name\n",
    "    data_list = processed_category[name]['review']\n",
    "    dic =corpora.Dictionary(data_list)\n",
    "    corpus = [dic.doc2bow(text) for text in data_list] # 每个text 对应的稀疏向量\n",
    "    tfidf = models.TfidfModel(corpus) #统计tfidf\n",
    "    corpus_tfidf = tfidf[corpus]  #得到每个文本的tfidf向量，稀疏矩阵\n",
    "    lda = models.LdaModel(corpus_tfidf, id2word = dic, num_topics = 20)\n",
    "    corpus_lda = lda[corpus_tfidf] #每个文本对应的LDA向量，稀疏的，元素值是隶属与对应序数类的权重\n",
    "    lda_corpus_each_region[name] = corpus_lda\n",
    "    lda_model_each_region[name] = lda\n"
   ]
  },
  {
   "cell_type": "markdown",
   "metadata": {},
   "source": [
    "Our LDA model is now stored as ldamodel. We can review our topics with the print_topic and print_topics methods, let us analyse the topics of europe, These are the top 5 words associated with 5 random topics. The decimal number is the weight of the word it is multiplying, i.e., how much does this word influence the particular topic."
   ]
  },
  {
   "cell_type": "code",
   "execution_count": 42,
   "metadata": {
    "collapsed": false
   },
   "outputs": [
    {
     "name": "stdout",
     "output_type": "stream",
     "text": [
      "(115, u'0.043*\"tomorrow\" + 0.041*\"frequently\" + 0.033*\"driving\" + 0.024*\"plastic\" + 0.023*\"wonderfully\" + 0.021*\"pro\" + 0.021*\"stepping\" + 0.021*\"dropping\" + 0.020*\"exact\" + 0.019*\"con\"')\n",
      "\n",
      "(92, u'0.015*\"grill\" + 0.014*\"owner\" + 0.012*\"sofra\" + 0.010*\"platter\" + 0.007*\"yogurt\" + 0.006*\"clean\" + 0.006*\"lamb\" + 0.006*\"salumi\" + 0.005*\"amazing\" + 0.005*\"fresh\"')\n",
      "\n",
      "(147, u'0.022*\"med\" + 0.020*\"alihan\" + 0.018*\"license\" + 0.017*\"selling\" + 0.016*\"grub\" + 0.014*\"te\" + 0.013*\"mad\" + 0.012*\"fettuccine\" + 0.012*\"pastitsio\" + 0.012*\"freshness\"')\n",
      "\n",
      "(199, u'0.072*\"owned\" + 0.054*\"shish\" + 0.047*\"tea\" + 0.034*\"nicest\" + 0.023*\"everybody\" + 0.023*\"burrito\" + 0.020*\"frequent\" + 0.019*\"operated\" + 0.018*\"diet\" + 0.015*\"family\"')\n",
      "\n",
      "(168, u'0.035*\"coworkers\" + 0.033*\"welcome\" + 0.030*\"wide\" + 0.025*\"downside\" + 0.023*\"kid\" + 0.020*\"sleek\" + 0.017*\"allergy\" + 0.017*\"drive\" + 0.015*\"alike\" + 0.013*\"daily\"')\n",
      "\n"
     ]
    }
   ],
   "source": [
    "europe_topics = (lda_model_each_region['europe']).show_topics(num_topics=5, num_words=10)\n",
    "for topic in europe_topics:\n",
    "    print topic\n",
    "    print"
   ]
  },
  {
   "cell_type": "markdown",
   "metadata": {},
   "source": [
    "** The number of topics needs to be adjust, and we choose to pick 20 topics for each type of restaurants. **\n",
    "\n",
    "而主题模型是迅速汇总信息的最快方式。用户可以快速探索不同的主题气泡，并基于点评中词条的出现频率找出问题。例如，如果时间是一个很重要的问题，那么用户在开餐厅时就可以利用这一点。"
   ]
  },
  {
   "cell_type": "markdown",
   "metadata": {},
   "source": [
    "we also want to vesualize the LDA model, so we use the python package pyldavis\n",
    "\n",
    "pip install pyldavis.  不知道需不需要Visualization LDA model. 看后面我们的篇幅怎么样，下面有两个API可以调用。我觉得第一个比较酷炫，但是第二个比较manual\n",
    "\n",
    "http://nbviewer.jupyter.org/github/bmabey/pyLDAvis/blob/master/notebooks/pyLDAvis_overview.ipynb#topic=0&lambda=1&term=\n",
    "\n",
    "or :\n",
    "\n",
    "https://de.dariah.eu/tatom/topic_model_visualization.html"
   ]
  },
  {
   "cell_type": "code",
   "execution_count": null,
   "metadata": {
    "collapsed": true
   },
   "outputs": [],
   "source": []
  },
  {
   "cell_type": "code",
   "execution_count": null,
   "metadata": {
    "collapsed": true
   },
   "outputs": [],
   "source": []
  },
  {
   "cell_type": "code",
   "execution_count": null,
   "metadata": {
    "collapsed": true
   },
   "outputs": [],
   "source": []
  },
  {
   "cell_type": "markdown",
   "metadata": {},
   "source": [
    "### 2gram model ?"
   ]
  },
  {
   "cell_type": "code",
   "execution_count": null,
   "metadata": {
    "collapsed": true
   },
   "outputs": [],
   "source": []
  }
 ],
 "metadata": {
  "anaconda-cloud": {},
  "kernelspec": {
   "display_name": "Python 2",
   "language": "python",
   "name": "python2"
  },
  "language_info": {
   "codemirror_mode": {
    "name": "ipython",
    "version": 2
   },
   "file_extension": ".py",
   "mimetype": "text/x-python",
   "name": "python",
   "nbconvert_exporter": "python",
   "pygments_lexer": "ipython2",
   "version": "2.7.11"
  }
 },
 "nbformat": 4,
 "nbformat_minor": 0
}
